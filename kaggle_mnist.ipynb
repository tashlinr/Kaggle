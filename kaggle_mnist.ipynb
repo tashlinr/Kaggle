{
  "nbformat": 4,
  "nbformat_minor": 0,
  "metadata": {
    "colab": {
      "name": "kaggle-mnist.ipynb",
      "version": "0.3.2",
      "provenance": [],
      "collapsed_sections": [],
      "include_colab_link": true
    },
    "kernelspec": {
      "name": "python3",
      "display_name": "Python 3"
    },
    "accelerator": "GPU"
  },
  "cells": [
    {
      "cell_type": "markdown",
      "metadata": {
        "id": "view-in-github",
        "colab_type": "text"
      },
      "source": [
        "<a href=\"https://colab.research.google.com/github/tashlinr/Kaggle/blob/master/kaggle_mnist.ipynb\" target=\"_parent\"><img src=\"https://colab.research.google.com/assets/colab-badge.svg\" alt=\"Open In Colab\"/></a>"
      ]
    },
    {
      "metadata": {
        "id": "bnbCIR_Hrm2G",
        "colab_type": "text"
      },
      "cell_type": "markdown",
      "source": [
        "# Keras CNN for Kaggle Digit-Recognizer\n",
        "\n",
        "### Self contained notebook using Google Collab, GPU hardware accelerator for training, and kaggle api for downloading dataset, and submitting results.\n",
        "\n",
        "#### No advanced hyperparameter tuning "
      ]
    },
    {
      "metadata": {
        "id": "vn4mnq8QSQat",
        "colab_type": "code",
        "colab": {}
      },
      "cell_type": "code",
      "source": [
        "# upload kaggle.json api file\n",
        "from google.colab import files\n",
        "files.upload()"
      ],
      "execution_count": 0,
      "outputs": []
    },
    {
      "metadata": {
        "id": "1uiRWH_WSeyB",
        "colab_type": "code",
        "colab": {}
      },
      "cell_type": "code",
      "source": [
        "#install kaggle api\n",
        "!pip install -q kaggle"
      ],
      "execution_count": 0,
      "outputs": []
    },
    {
      "metadata": {
        "id": "HI98sxQoTBYs",
        "colab_type": "code",
        "colab": {}
      },
      "cell_type": "code",
      "source": [
        "#make new directory\n",
        "!mkdir -p ~/.kaggle"
      ],
      "execution_count": 0,
      "outputs": []
    },
    {
      "metadata": {
        "id": "WsOq7ePvTC7t",
        "colab_type": "code",
        "colab": {}
      },
      "cell_type": "code",
      "source": [
        "#place .json file in directory\n",
        "!cp kaggle.json ~/.kaggle/"
      ],
      "execution_count": 0,
      "outputs": []
    },
    {
      "metadata": {
        "id": "jH7pFmzbSpwG",
        "colab_type": "code",
        "colab": {
          "base_uri": "https://localhost:8080/",
          "height": 207
        },
        "outputId": "a1164281-bbfe-474b-f406-f31d1489d0ea"
      },
      "cell_type": "code",
      "source": [
        "# download digit-recognizer dataset from kaggle\n",
        "!kaggle competitions download -c digit-recognizer"
      ],
      "execution_count": 5,
      "outputs": [
        {
          "output_type": "stream",
          "text": [
            "Warning: Your Kaggle API key is readable by other users on this system! To fix this, you can run 'chmod 600 /root/.kaggle/kaggle.json'\n",
            "Downloading train.csv to /content\n",
            " 83% 61.0M/73.2M [00:00<00:00, 68.0MB/s]\n",
            "100% 73.2M/73.2M [00:00<00:00, 107MB/s] \n",
            "Downloading test.csv to /content\n",
            " 66% 32.0M/48.8M [00:00<00:00, 87.5MB/s]\n",
            "100% 48.8M/48.8M [00:00<00:00, 123MB/s] \n",
            "Downloading sample_submission.csv to /content\n",
            "  0% 0.00/235k [00:00<?, ?B/s]\n",
            "100% 235k/235k [00:00<00:00, 45.1MB/s]\n"
          ],
          "name": "stdout"
        }
      ]
    },
    {
      "metadata": {
        "id": "dh8Ant-aS6zJ",
        "colab_type": "code",
        "colab": {}
      },
      "cell_type": "code",
      "source": [
        "# import pandas and numpy for quick data exploration and handling\n",
        "import numpy as np\n",
        "import pandas as pd\n",
        "\n",
        "train = pd.read_csv('train.csv')\n",
        "test = pd.read_csv('test.csv')\n"
      ],
      "execution_count": 0,
      "outputs": []
    },
    {
      "metadata": {
        "id": "Lwq8tPoqWE-z",
        "colab_type": "code",
        "colab": {
          "base_uri": "https://localhost:8080/",
          "height": 34
        },
        "outputId": "1ab300bb-9a31-4ff1-c0ea-124d9c1fea42"
      },
      "cell_type": "code",
      "source": [
        "test.shape"
      ],
      "execution_count": 7,
      "outputs": [
        {
          "output_type": "execute_result",
          "data": {
            "text/plain": [
              "(28000, 784)"
            ]
          },
          "metadata": {
            "tags": []
          },
          "execution_count": 7
        }
      ]
    },
    {
      "metadata": {
        "id": "LNN302ZpTdp4",
        "colab_type": "code",
        "colab": {}
      },
      "cell_type": "code",
      "source": [
        "#divide training labels and data \n",
        "y_train_df = train['label']\n",
        "X_train_df = train.drop(['label'], axis = 1)\n",
        "\n",
        "X_test = np.array(test)"
      ],
      "execution_count": 0,
      "outputs": []
    },
    {
      "metadata": {
        "id": "gdvAo5X1Ti8G",
        "colab_type": "code",
        "colab": {
          "base_uri": "https://localhost:8080/",
          "height": 119
        },
        "outputId": "f78796f1-180d-43cf-9f6d-3b32320f1dcd"
      },
      "cell_type": "code",
      "source": [
        "y_train_df.head()"
      ],
      "execution_count": 9,
      "outputs": [
        {
          "output_type": "execute_result",
          "data": {
            "text/plain": [
              "0    1\n",
              "1    0\n",
              "2    1\n",
              "3    4\n",
              "4    0\n",
              "Name: label, dtype: int64"
            ]
          },
          "metadata": {
            "tags": []
          },
          "execution_count": 9
        }
      ]
    },
    {
      "metadata": {
        "id": "wG1WUgQgUDsC",
        "colab_type": "code",
        "colab": {}
      },
      "cell_type": "code",
      "source": [
        ""
      ],
      "execution_count": 0,
      "outputs": []
    },
    {
      "metadata": {
        "id": "fsKBPMNxUFsq",
        "colab_type": "code",
        "colab": {
          "base_uri": "https://localhost:8080/",
          "height": 364
        },
        "outputId": "6c65e9b4-8c8f-4364-b831-c7fbe23a4bcd"
      },
      "cell_type": "code",
      "source": [
        "# quick check of the training labels distribution\n",
        "y_train_df.hist()"
      ],
      "execution_count": 10,
      "outputs": [
        {
          "output_type": "execute_result",
          "data": {
            "text/plain": [
              "<matplotlib.axes._subplots.AxesSubplot at 0x7f1ceb2562b0>"
            ]
          },
          "metadata": {
            "tags": []
          },
          "execution_count": 10
        },
        {
          "output_type": "display_data",
          "data": {
            "image/png": "[encoded data removed]",
            "text/plain": [
              "<matplotlib.figure.Figure at 0x7f1ceb2d3e80>"
            ]
          },
          "metadata": {
            "tags": []
          }
        }
      ]
    },
    {
      "metadata": {
        "id": "8-QOMVgBUSj-",
        "colab_type": "code",
        "colab": {}
      },
      "cell_type": "code",
      "source": [
        "#convert pandas dataframe to numpy array for keras\n",
        "y = np.array(y_train_df)\n",
        "X = np.array(X_train_df)\n",
        "#data is downloaded as a 784, 1Dim array, since we want to use a CNN we need to reshape training data\n",
        "img_rows = 28\n",
        "img_cols = 28"
      ],
      "execution_count": 0,
      "outputs": []
    },
    {
      "metadata": {
        "id": "DloLVFD6ZRGG",
        "colab_type": "code",
        "colab": {}
      },
      "cell_type": "code",
      "source": [
        "#reshape for CNN\n",
        "x = X.reshape(X.shape[0], img_rows, img_cols, 1)\n",
        "x_test = X_test.reshape(X_test.shape[0], img_rows, img_cols, 1)"
      ],
      "execution_count": 0,
      "outputs": []
    },
    {
      "metadata": {
        "id": "cseRQuTYWWoC",
        "colab_type": "code",
        "colab": {
          "base_uri": "https://localhost:8080/",
          "height": 34
        },
        "outputId": "becc61bb-33e1-4903-9914-45ee4846b265"
      },
      "cell_type": "code",
      "source": [
        "#double check reshape worked as intended\n",
        "print(x_test.shape)"
      ],
      "execution_count": 13,
      "outputs": [
        {
          "output_type": "stream",
          "text": [
            "(28000, 28, 28, 1)\n"
          ],
          "name": "stdout"
        }
      ]
    },
    {
      "metadata": {
        "id": "ctj2l6ceWjpH",
        "colab_type": "code",
        "colab": {}
      },
      "cell_type": "code",
      "source": [
        "# use sklearn to split training data and create validation set, 33% of our data will be kept seperate\n",
        "from sklearn.model_selection import train_test_split\n",
        "X_train, X_val, y_train, y_val = train_test_split(x, y, test_size=0.33, random_state=42)"
      ],
      "execution_count": 0,
      "outputs": []
    },
    {
      "metadata": {
        "id": "tZXXEn1dXz0H",
        "colab_type": "code",
        "colab": {
          "base_uri": "https://localhost:8080/",
          "height": 102
        },
        "outputId": "0e206688-377d-4a12-d113-bde0b423e4c2"
      },
      "cell_type": "code",
      "source": [
        "#triple check to make sure our shape of inputs are correct.\n",
        "print(X_train.shape)\n",
        "print(X_val.shape)\n",
        "print(y_train.shape)\n",
        "print(y_val.shape)\n",
        "print(x_test.shape)"
      ],
      "execution_count": 16,
      "outputs": [
        {
          "output_type": "stream",
          "text": [
            "(28140, 28, 28, 1)\n",
            "(13860, 28, 28, 1)\n",
            "(28140,)\n",
            "(13860,)\n",
            "(28000, 28, 28, 1)\n"
          ],
          "name": "stdout"
        }
      ]
    },
    {
      "metadata": {
        "id": "ra39WoDQVNw3",
        "colab_type": "code",
        "colab": {
          "base_uri": "https://localhost:8080/",
          "height": 85
        },
        "outputId": "a35cf258-9b14-43d8-a505-e214ed651f4e"
      },
      "cell_type": "code",
      "source": [
        "#normalize data\n",
        "x_train = X_train.astype('float32')\n",
        "x_test = x_test.astype('float32')\n",
        "x_val = X_val.astype('float32')\n",
        "\n",
        "\n",
        "x_train /= 255\n",
        "x_test /= 255\n",
        "x_val /= 255\n",
        "\n",
        "print('x_train shape:', x_train.shape)\n",
        "print(x_train.shape[0], 'train samples')\n",
        "print(x_test.shape[0], 'test samples')\n",
        "print(x_val.shape[0], 'val samples')"
      ],
      "execution_count": 17,
      "outputs": [
        {
          "output_type": "stream",
          "text": [
            "x_train shape: (28140, 28, 28, 1)\n",
            "28140 train samples\n",
            "28000 test samples\n",
            "13860 val samples\n"
          ],
          "name": "stdout"
        }
      ]
    },
    {
      "metadata": {
        "id": "aGZsvUkPWnJT",
        "colab_type": "code",
        "colab": {
          "base_uri": "https://localhost:8080/",
          "height": 34
        },
        "outputId": "000a8de6-122a-40bd-e5ed-3d4fc967ad19"
      },
      "cell_type": "code",
      "source": [
        "#import keras \n",
        "from __future__ import print_function\n",
        "import keras\n",
        "from keras.models import Sequential\n",
        "from keras.layers import Dense, Dropout, Flatten\n",
        "from keras.layers import Conv2D, MaxPooling2D\n",
        "from keras import backend as K\n",
        "\n",
        "# for training and validation, categorical data is better used\n",
        "y_train = keras.utils.to_categorical(y_train, 10)\n",
        "y_val = keras.utils.to_categorical(y_val, 10)"
      ],
      "execution_count": 19,
      "outputs": [
        {
          "output_type": "stream",
          "text": [
            "Using TensorFlow backend.\n"
          ],
          "name": "stderr"
        }
      ]
    },
    {
      "metadata": {
        "id": "al3NaTeVXBDI",
        "colab_type": "code",
        "colab": {}
      },
      "cell_type": "code",
      "source": [
        "#define some basic parameters\n",
        "input_shape = (img_rows, img_cols, 1)\n",
        "num_classes = 10"
      ],
      "execution_count": 0,
      "outputs": []
    },
    {
      "metadata": {
        "id": "uOIxbhU3Yx1U",
        "colab_type": "code",
        "colab": {}
      },
      "cell_type": "code",
      "source": [
        "#define model topology\n",
        "model = Sequential()\n",
        "\n",
        "model.add(Conv2D(32, kernel_size = (3,3),\n",
        "                 activation = 'relu',\n",
        "                 input_shape = input_shape))\n",
        "\n",
        "model.add(Conv2D(64, kernel_size =(3,3),\n",
        "                 activation = 'relu'))\n",
        "model.add(MaxPooling2D(pool_size = (2,2)))\n",
        "model.add(Dropout(0.25))\n",
        "\n",
        "model.add(Conv2D(128, kernel_size =(3,3),\n",
        "                 activation = 'relu'))\n",
        "model.add(MaxPooling2D(pool_size = (2,2)))\n",
        "model.add(Dropout(0.4))\n",
        "\n",
        "model.add(Flatten())\n",
        "\n",
        "model.add(Dense(128, activation = 'relu'))\n",
        "model.add(Dropout(0.5))\n",
        "model.add(Dense(num_classes, activation = 'softmax'))"
      ],
      "execution_count": 0,
      "outputs": []
    },
    {
      "metadata": {
        "id": "JWvdP5QtXIRX",
        "colab_type": "code",
        "colab": {}
      },
      "cell_type": "code",
      "source": [
        "#compile with cat-crossentropy, adam optimizer, and accuracy as the metric.\n",
        "model.compile(loss=keras.losses.categorical_crossentropy,\n",
        "              optimizer=keras.optimizers.Adam(),\n",
        "              metrics=['accuracy'])\n"
      ],
      "execution_count": 0,
      "outputs": []
    },
    {
      "metadata": {
        "id": "vXi1LmIeatOG",
        "colab_type": "code",
        "colab": {
          "base_uri": "https://localhost:8080/",
          "height": 731
        },
        "outputId": "ae5debee-003f-451a-8f44-3e406c26df20"
      },
      "cell_type": "code",
      "source": [
        "#model training and fit\n",
        "model.fit(x_train, y_train,\n",
        "          batch_size=64,\n",
        "          epochs=20,\n",
        "          verbose=1,\n",
        "          validation_data=(x_val, y_val))\n"
      ],
      "execution_count": 27,
      "outputs": [
        {
          "output_type": "stream",
          "text": [
            "Train on 28140 samples, validate on 13860 samples\n",
            "Epoch 1/20\n",
            "28140/28140 [==============================] - 11s 407us/step - loss: 0.3458 - acc: 0.8925 - val_loss: 0.0761 - val_acc: 0.9766\n",
            "Epoch 2/20\n",
            "28140/28140 [==============================] - 10s 352us/step - loss: 0.1152 - acc: 0.9652 - val_loss: 0.0562 - val_acc: 0.9828\n",
            "Epoch 3/20\n",
            "28140/28140 [==============================] - 10s 349us/step - loss: 0.0844 - acc: 0.9751 - val_loss: 0.0504 - val_acc: 0.9838\n",
            "Epoch 4/20\n",
            "28140/28140 [==============================] - 10s 346us/step - loss: 0.0722 - acc: 0.9784 - val_loss: 0.0362 - val_acc: 0.9887\n",
            "Epoch 5/20\n",
            "28140/28140 [==============================] - 10s 341us/step - loss: 0.0612 - acc: 0.9807 - val_loss: 0.0388 - val_acc: 0.9885\n",
            "Epoch 6/20\n",
            "28140/28140 [==============================] - 10s 341us/step - loss: 0.0538 - acc: 0.9834 - val_loss: 0.0424 - val_acc: 0.9875\n",
            "Epoch 7/20\n",
            "28140/28140 [==============================] - 9s 330us/step - loss: 0.0464 - acc: 0.9853 - val_loss: 0.0310 - val_acc: 0.9903\n",
            "Epoch 8/20\n",
            "28140/28140 [==============================] - 10s 345us/step - loss: 0.0447 - acc: 0.9861 - val_loss: 0.0316 - val_acc: 0.9903\n",
            "Epoch 9/20\n",
            "28140/28140 [==============================] - 10s 350us/step - loss: 0.0417 - acc: 0.9862 - val_loss: 0.0318 - val_acc: 0.9903\n",
            "Epoch 10/20\n",
            "28140/28140 [==============================] - 9s 331us/step - loss: 0.0368 - acc: 0.9882 - val_loss: 0.0313 - val_acc: 0.9910\n",
            "Epoch 11/20\n",
            "28140/28140 [==============================] - 9s 326us/step - loss: 0.0370 - acc: 0.9887 - val_loss: 0.0293 - val_acc: 0.9916\n",
            "Epoch 12/20\n",
            "28140/28140 [==============================] - 9s 324us/step - loss: 0.0330 - acc: 0.9888 - val_loss: 0.0282 - val_acc: 0.9918\n",
            "Epoch 13/20\n",
            "28140/28140 [==============================] - 9s 323us/step - loss: 0.0304 - acc: 0.9904 - val_loss: 0.0373 - val_acc: 0.9899\n",
            "Epoch 14/20\n",
            "28140/28140 [==============================] - 9s 322us/step - loss: 0.0285 - acc: 0.9912 - val_loss: 0.0313 - val_acc: 0.9916\n",
            "Epoch 15/20\n",
            "28140/28140 [==============================] - 9s 325us/step - loss: 0.0305 - acc: 0.9901 - val_loss: 0.0341 - val_acc: 0.9909\n",
            "Epoch 16/20\n",
            "28140/28140 [==============================] - 9s 320us/step - loss: 0.0322 - acc: 0.9897 - val_loss: 0.0283 - val_acc: 0.9918\n",
            "Epoch 17/20\n",
            "28140/28140 [==============================] - 9s 322us/step - loss: 0.0266 - acc: 0.9922 - val_loss: 0.0304 - val_acc: 0.9918\n",
            "Epoch 18/20\n",
            "28140/28140 [==============================] - 9s 322us/step - loss: 0.0231 - acc: 0.9929 - val_loss: 0.0313 - val_acc: 0.9919\n",
            "Epoch 19/20\n",
            "28140/28140 [==============================] - 9s 321us/step - loss: 0.0243 - acc: 0.9919 - val_loss: 0.0307 - val_acc: 0.9916\n",
            "Epoch 20/20\n",
            "28140/28140 [==============================] - 9s 322us/step - loss: 0.0257 - acc: 0.9915 - val_loss: 0.0278 - val_acc: 0.9926\n"
          ],
          "name": "stdout"
        },
        {
          "output_type": "execute_result",
          "data": {
            "text/plain": [
              "<keras.callbacks.History at 0x7f1ca1b863c8>"
            ]
          },
          "metadata": {
            "tags": []
          },
          "execution_count": 27
        }
      ]
    },
    {
      "metadata": {
        "id": "Cwz2cdeya1ed",
        "colab_type": "code",
        "colab": {
          "base_uri": "https://localhost:8080/",
          "height": 51
        },
        "outputId": "b180ba00-30d8-4794-aec5-101fa20f4b30"
      },
      "cell_type": "code",
      "source": [
        "#evaluate model\n",
        "score = model.evaluate(x_val, y_val, verbose=0)\n",
        "print('Test loss:', score[0])\n",
        "print('Test accuracy:', score[1])"
      ],
      "execution_count": 28,
      "outputs": [
        {
          "output_type": "stream",
          "text": [
            "Test loss: 0.02781499139288805\n",
            "Test accuracy: 0.9926406926406927\n"
          ],
          "name": "stdout"
        }
      ]
    },
    {
      "metadata": {
        "id": "Tsa7GkzWbWri",
        "colab_type": "code",
        "colab": {}
      },
      "cell_type": "code",
      "source": [
        "#make prediction for kaggle\n",
        "prediction = model.predict(x_test)"
      ],
      "execution_count": 0,
      "outputs": []
    },
    {
      "metadata": {
        "id": "xB5jaNwScE6S",
        "colab_type": "code",
        "colab": {
          "base_uri": "https://localhost:8080/",
          "height": 34
        },
        "outputId": "7f526bea-7349-474f-e2f1-0c249eb604b3"
      },
      "cell_type": "code",
      "source": [
        "#double check shape to make sure everything was predicted\n",
        "prediction.shape"
      ],
      "execution_count": 30,
      "outputs": [
        {
          "output_type": "execute_result",
          "data": {
            "text/plain": [
              "(28000, 10)"
            ]
          },
          "metadata": {
            "tags": []
          },
          "execution_count": 30
        }
      ]
    },
    {
      "metadata": {
        "id": "4LWVahENcbzO",
        "colab_type": "code",
        "colab": {}
      },
      "cell_type": "code",
      "source": [
        "#use argmax to convert back from categorical\n",
        "pred = np.argmax(prediction, axis =1)"
      ],
      "execution_count": 0,
      "outputs": []
    },
    {
      "metadata": {
        "id": "OxOQn2zwcqLo",
        "colab_type": "code",
        "colab": {}
      },
      "cell_type": "code",
      "source": [
        "# format prediction for kaggle submission\n",
        "results = pd.Series(pred,name=\"Label\")\n"
      ],
      "execution_count": 0,
      "outputs": []
    },
    {
      "metadata": {
        "id": "8gvS5HJlcrLh",
        "colab_type": "code",
        "colab": {}
      },
      "cell_type": "code",
      "source": [
        "submission = pd.concat([pd.Series(range(1,28001),name = \"ImageId\"),results],axis = 1)\n",
        "\n",
        "submission.to_csv(\"cnn_mnist_ex.csv\",index=False)\n"
      ],
      "execution_count": 0,
      "outputs": []
    },
    {
      "metadata": {
        "id": "QI2LpvU1dkZy",
        "colab_type": "code",
        "colab": {
          "base_uri": "https://localhost:8080/",
          "height": 88
        },
        "outputId": "b780669d-2861-4d8a-d544-bd5241cc0bbc"
      },
      "cell_type": "code",
      "source": [
        "#Use kaggle api to submit directly from notebook\n",
        "!kaggle competitions submit digit-recognizer -f cnn_mnist_ex.csv -m \"smaller batchsize\""
      ],
      "execution_count": 34,
      "outputs": [
        {
          "output_type": "stream",
          "text": [
            "Warning: Your Kaggle API key is readable by other users on this system! To fix this, you can run 'chmod 600 /root/.kaggle/kaggle.json'\n",
            "100% 208k/208k [00:00<00:00, 583kB/s]\n",
            "Successfully submitted to Digit Recognizer"
          ],
          "name": "stdout"
        }
      ]
    },
    {
      "metadata": {
        "id": "wXi4J8oyraJr",
        "colab_type": "text"
      },
      "cell_type": "markdown",
      "source": [
        "### Public Score of 0.99057, not too bad. :)"
      ]
    },
    {
      "metadata": {
        "id": "kew9OAe5rkD3",
        "colab_type": "code",
        "colab": {}
      },
      "cell_type": "code",
      "source": [
        ""
      ],
      "execution_count": 0,
      "outputs": []
    }
  ]
}